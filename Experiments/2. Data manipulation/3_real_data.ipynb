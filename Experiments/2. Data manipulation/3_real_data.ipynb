{
 "cells": [
  {
   "cell_type": "code",
   "execution_count": 1,
   "metadata": {},
   "outputs": [],
   "source": [
    "# How changing the dataset sample size effects the calibration methods\n",
    "# Fix training dataset size and change the calib set samples - best method is one that gets max calib with least data\n",
    "\n",
    "# imports\n",
    "import sys\n",
    "import numpy as np\n",
    "import pandas as pd\n",
    "sys.path.append('../../') # to access the files in higher directories\n",
    "sys.path.append('../') # to access the files in higher directories\n",
    "pd.set_option('display.max_rows', 500)\n",
    "pd.set_option('display.max_columns', 500)\n",
    "pd.set_option('display.width', 1000)\n",
    "\n",
    "import core_exp as cx\n",
    "import core_calib as cal\n",
    "import core_tools as ct\n",
    "\n",
    "import warnings\n",
    "from sklearn.exceptions import DataConversionWarning\n",
    "\n",
    "# Ignore all warnings from scikit-learn\n",
    "warnings.filterwarnings(\"ignore\", module=\"sklearn\")\n",
    "warnings.filterwarnings(\"ignore\", category=DeprecationWarning)\n",
    "warnings.filterwarnings(\"ignore\", category=FutureWarning)\n",
    "warnings.filterwarnings(\"ignore\", category=UserWarning)\n",
    "# Add more categories if needed\n",
    "\n"
   ]
  },
  {
   "cell_type": "code",
   "execution_count": 2,
   "metadata": {},
   "outputs": [],
   "source": [
    "params = {\n",
    "    # exp\n",
    "    \"seed\": 0,\n",
    "    \"runs\": 1,\n",
    "    \"exp_name\": ct.generate_readable_short_id(\"speed_test\"), #\"main_run5_cv5_21data_100trees_40opt_fast\",\n",
    "    \"path\": \"../../\",\n",
    "    \"split\": \"CV\", #CV, random_split\n",
    "    \"cv_folds\": 5,\n",
    "    \"plot\": False,\n",
    "    \"n_jobs\": -1,\n",
    "\n",
    "    \"calib_methods\": [\n",
    "                      \"RF_d\",\n",
    "                      \"RF_opt\", \n",
    "                      \"RF_large\", \n",
    "                      \"Platt\", \"ISO\", \"Beta\", \"VA\",\n",
    "                      \"CT\", \"PPA\",\n",
    "                      # \"Shaker\",\n",
    "                    #   \"Rank\"\n",
    "                      ],\n",
    "\n",
    "    \"calib_method_colors\": {\n",
    "        \"RF_d\": \"blue\", \n",
    "        \"RF_opt\": \"orange\", \n",
    "        \"RF_large\": \"red\",\n",
    "        \"Platt\": \"Brown\", \n",
    "        \"ISO\": \"purple\", \n",
    "        \"Beta\": \"magenta\", \n",
    "        \"VA\": \"gray\",\n",
    "        \"CT\": \"slategray\",\n",
    "        \"PPA\": \"olive\", \n",
    "        # \"Shaker\": \"gold\",\n",
    "        # \"Rank\": \"silver\"     \n",
    "    },\n",
    "\n",
    "    # \"calib_method_colors\": {\n",
    "    #     \"RF_d\": \"blue\", \n",
    "    #     \"RF_opt\": \"orange\", \n",
    "    #     \"RF_large\": \"red\",\n",
    "    #     \"DNN_ens\": \"olive\", \n",
    "    #     \"XGB\": \"olive\", \n",
    "    #     \"DT\": \"black\", \n",
    "    #     \"LR\": \"black\", \n",
    "    #     \"SVM\": \"black\", \n",
    "    #     \"DNN\": \"black\",\n",
    "    #     \"GNB\": \"black\",\n",
    "    # },\n",
    "\n",
    "    # \"calib_methods\": [\n",
    "    #     \"RF_d\",\n",
    "    #     # \"RF_opt\", \n",
    "    #     # \"RF_large\",\n",
    "    #     # \"DNN_ens\", \n",
    "    #     # \"XGB_opt\",\n",
    "    #     # \"DT_opt\", \n",
    "    #     # \"LR_opt\", \"SVM_opt\", \"DNN_opt\", \n",
    "    #     # \"GNB_opt\"          \n",
    "    #                   ],\n",
    "\n",
    "\n",
    "    \"metrics\": [\"acc\", \"brier\", \"ece\", \"logloss\", \"time\"],\n",
    "\n",
    "    # calib param   \n",
    "    \"bin_strategy\": \"uniform\",\n",
    "    \"ece_bins\": 20,\n",
    "    \"boot_size\": 1000, \n",
    "    \"boot_count\": 5,\n",
    "\n",
    "    # RF hyper opt\n",
    "    \"hyper_opt\": True,\n",
    "    \"opt_cv\":5, \n",
    "    \"opt_n_iter\":50,\n",
    "    \"opt_top_K\": 5,\n",
    "    \"search_space\": {\n",
    "                    \"n_estimators\": [10],\n",
    "                    \"max_depth\":  np.arange(2, 100).tolist() + [None], # [None, 5, 10, 15, 20, 30, 50], #\n",
    "                    \"criterion\": [\"gini\", \"entropy\"],\n",
    "                    \"max_features\": ['sqrt', 'log2', None],\n",
    "                    \"min_samples_split\": np.arange(2, 11).tolist(),\n",
    "                    \"min_samples_leaf\":  np.arange(1, 11).tolist(),\n",
    "                    'class_weight': [None, 'balanced', 'balanced_subsample'],  # Weight for each class\n",
    "                    \"oob_score\": [False],\n",
    "                    \"laplace\": [0,1]\n",
    "                    },\n",
    "    \n",
    "    \"oob\": False,\n",
    "    \"laplace\":0, # if set to 1, OOB must be false\n",
    "    \"curt_v\": np.arange(1, 100).tolist(),\n",
    "\n",
    "    \"exp_key\": \"data_name\",\n",
    "    \"exp_values\": [\n",
    "                  # \"cm1\",\n",
    "                  # \"datatrieve\",\n",
    "                  # \"kc1_class_level_defectiveornot\",\n",
    "                  # \"kc1\",\n",
    "                  # \"kc2\",\n",
    "                  # \"kc3\",\n",
    "                  # \"pc1\",\n",
    "                  # \"spect\",\n",
    "                  # \"spectf\",\n",
    "                  # \"vertebral\", \n",
    "                  # \"wilt\",\n",
    "                  # \"parkinsons\", \n",
    "                  # \"heart\",\n",
    "                  # \"wdbc\",\n",
    "                  \"bank\", \n",
    "                  # \"ionosphere\", \n",
    "                #   \"HRCompetencyScores\",\n",
    "                #   \"spambase\", \n",
    "                #   \"QSAR\", \n",
    "                #   \"diabetes\", \n",
    "                #   \"breast\", \n",
    "                #   \"SPF\",\n",
    "                #   \"hillvalley\",\n",
    "                #   \"pc4\",\n",
    "                #   \"scene\",\n",
    "                #   \"Sonar_Mine_Rock_Data\",\n",
    "                #   \"Customer_Churn\",\n",
    "                #   \"jm1\",\n",
    "                #   \"eeg\",\n",
    "                #   \"phoneme\",\n",
    "\n",
    "\n",
    "                  # \"madelon\",\n",
    "                  # \"nomao\",\n",
    "                  ]\n",
    "}\n",
    "\n",
    "ct.save_params(params)"
   ]
  },
  {
   "cell_type": "code",
   "execution_count": 3,
   "metadata": {},
   "outputs": [
    {
     "name": "stdout",
     "output_type": "stream",
     "text": [
      "exp_param bank done\n"
     ]
    }
   ],
   "source": [
    "calib_results_dict, data_list = cx.run_exp(params[\"exp_key\"], params[\"exp_values\"], params)\n",
    "ct.save_results(calib_results_dict, params['exp_name'])"
   ]
  },
  {
   "cell_type": "code",
   "execution_count": 4,
   "metadata": {},
   "outputs": [],
   "source": [
    "tables = cal.mean_and_ranking_table(calib_results_dict, \n",
    "                                    params[\"metrics\"], \n",
    "                                    params[\"calib_methods\"], \n",
    "                                    data_list, \n",
    "                                    mean_and_rank=True, \n",
    "                                    std=True)\n",
    "ct.save_metrics_to_csv(tables, params[\"metrics\"], params['exp_name'])"
   ]
  },
  {
   "cell_type": "code",
   "execution_count": 5,
   "metadata": {},
   "outputs": [
    {
     "name": "stdout",
     "output_type": "stream",
     "text": [
      "metric acc\n",
      "Friedman Test Statistic: 8.000000000000002\n",
      "P-value: 0.4334701203667086\n",
      "The differences between groups are significant.\n",
      "metric brier\n",
      "Friedman Test Statistic: 8.0\n",
      "P-value: 0.43347012036670896\n",
      "The differences between groups are significant.\n",
      "metric ece\n",
      "Friedman Test Statistic: 8.0\n",
      "P-value: 0.43347012036670896\n",
      "The differences between groups are significant.\n",
      "metric logloss\n",
      "Friedman Test Statistic: 8.0\n",
      "P-value: 0.43347012036670896\n",
      "The differences between groups are significant.\n",
      "metric time\n",
      "Friedman Test Statistic: 8.0\n",
      "P-value: 0.43347012036670896\n",
      "The differences between groups are significant.\n"
     ]
    }
   ],
   "source": [
    "ct.res_statistics(tables, params[\"metrics\"], f\"results/{params['exp_name']}\", colors=params[\"calib_method_colors\"])"
   ]
  },
  {
   "cell_type": "code",
   "execution_count": 6,
   "metadata": {},
   "outputs": [],
   "source": [
    "ct.save_metrics_to_latex(tables, params[\"metrics\"], params['exp_name'])"
   ]
  },
  {
   "cell_type": "code",
   "execution_count": 7,
   "metadata": {},
   "outputs": [
    {
     "data": {
      "text/plain": [
       "dict_keys(['bank_RF_d_runtime', 'bank_RF_opt_runtime', 'bank_RF_large_runtime', 'bank_Platt_runtime', 'bank_ISO_runtime', 'bank_PPA_runtime', 'bank_VA_runtime', 'bank_Beta_runtime', 'bank_CT_runtime', 'bank_RF_d_time', 'bank_RF_opt_time', 'bank_RF_large_time', 'bank_Platt_time', 'bank_ISO_time', 'bank_Beta_time', 'bank_VA_time', 'bank_CT_time', 'bank_PPA_time', 'bank_RF_d_acc', 'bank_RF_opt_acc', 'bank_RF_large_acc', 'bank_Platt_acc', 'bank_ISO_acc', 'bank_Beta_acc', 'bank_VA_acc', 'bank_CT_acc', 'bank_PPA_acc', 'bank_RF_d_ece', 'bank_RF_opt_ece', 'bank_RF_large_ece', 'bank_Platt_ece', 'bank_ISO_ece', 'bank_Beta_ece', 'bank_VA_ece', 'bank_CT_ece', 'bank_PPA_ece', 'bank_RF_d_brier', 'bank_RF_opt_brier', 'bank_RF_large_brier', 'bank_Platt_brier', 'bank_ISO_brier', 'bank_Beta_brier', 'bank_VA_brier', 'bank_CT_brier', 'bank_PPA_brier', 'bank_RF_d_logloss', 'bank_RF_opt_logloss', 'bank_RF_large_logloss', 'bank_Platt_logloss', 'bank_ISO_logloss', 'bank_Beta_logloss', 'bank_VA_logloss', 'bank_CT_logloss', 'bank_PPA_logloss'])"
      ]
     },
     "execution_count": 7,
     "metadata": {},
     "output_type": "execute_result"
    }
   ],
   "source": [
    "calib_results_dict.keys()"
   ]
  }
 ],
 "metadata": {
  "kernelspec": {
   "display_name": ".venv",
   "language": "python",
   "name": "python3"
  },
  "language_info": {
   "codemirror_mode": {
    "name": "ipython",
    "version": 3
   },
   "file_extension": ".py",
   "mimetype": "text/x-python",
   "name": "python",
   "nbconvert_exporter": "python",
   "pygments_lexer": "ipython3",
   "version": "3.10.12"
  },
  "orig_nbformat": 4
 },
 "nbformat": 4,
 "nbformat_minor": 2
}
