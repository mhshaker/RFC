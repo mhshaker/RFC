{
 "cells": [
  {
   "cell_type": "code",
   "execution_count": 1,
   "metadata": {},
   "outputs": [],
   "source": [
    "# How changing the dataset sample size effects the calibration methods\n",
    "# Fix training dataset size and change the calib set samples - best method is one that gets max calib with least data\n",
    "\n",
    "# imports\n",
    "import sys\n",
    "import numpy as np\n",
    "import pandas as pd\n",
    "sys.path.append('../../') # to access the files in higher directories\n",
    "sys.path.append('../') # to access the files in higher directories\n",
    "pd.set_option('display.max_rows', 500)\n",
    "pd.set_option('display.max_columns', 500)\n",
    "pd.set_option('display.width', 1000)\n",
    "\n",
    "import core_exp as cx\n",
    "import core_calib as cal\n",
    "import core_tools as ct\n",
    "\n",
    "import warnings\n",
    "from sklearn.exceptions import DataConversionWarning\n",
    "\n",
    "# Ignore all warnings from scikit-learn\n",
    "warnings.filterwarnings(\"ignore\", module=\"sklearn\")\n",
    "warnings.filterwarnings(\"ignore\", category=DeprecationWarning)\n",
    "warnings.filterwarnings(\"ignore\", category=FutureWarning)\n",
    "warnings.filterwarnings(\"ignore\", category=UserWarning)\n",
    "# Add more categories if needed\n",
    "\n"
   ]
  },
  {
   "cell_type": "code",
   "execution_count": 2,
   "metadata": {},
   "outputs": [],
   "source": [
    "params = {\n",
    "    # exp\n",
    "    \"seed\": 0,\n",
    "    \"runs\": 10,\n",
    "    \"exp_name\": ct.generate_readable_short_id(\"full_run_glogal_noise\"), # full_run_glogal_noise\n",
    "    \"path\": \"../../\",\n",
    "    \"split\": \"CV\", #CV, random_split\n",
    "    \"cv_folds\": 5,\n",
    "    \"plot\": False,\n",
    "    \"n_jobs\": -1,\n",
    "\n",
    "    \"calib_methods\": [\n",
    "                      \"RF_d\",\n",
    "                      \"RF_opt\", \n",
    "                      \"Platt\", \"ISO\", \"Beta\", \"VA\",\n",
    "                      \"CT\", \"PPA\",\n",
    "                      \"Shaker\",\n",
    "                      ],\n",
    "\n",
    "    \"calib_method_colors\": {\n",
    "        \"RF_d\": \"blue\", \n",
    "        \"RF_opt\": \"orange\", \n",
    "        \"Platt\": \"Brown\", \n",
    "        \"ISO\": \"purple\", \n",
    "        \"Beta\": \"magenta\", \n",
    "        \"VA\": \"gray\",\n",
    "        \"CT\": \"slategray\",\n",
    "        \"PPA\": \"olive\", \n",
    "        \"Shaker\": \"gold\",\n",
    "    },\n",
    "\n",
    "\n",
    "    \"metrics\": [\"acc\", \"brier\", \"ece\", \"logloss\", \"time\"],\n",
    "\n",
    "    # calib param   \n",
    "    \"bin_strategy\": \"uniform\",\n",
    "    \"ece_bins\": 20,\n",
    "    \"boot_size\": 1000, \n",
    "    \"boot_count\": 5,\n",
    "\n",
    "    # RF hyper opt\n",
    "    \"hyper_opt\": True,\n",
    "    \"opt_cv\":5, \n",
    "    \"opt_n_iter\":50,\n",
    "    \"opt_top_K\": 5,\n",
    "    \"search_space\": {\n",
    "                    \"n_estimators\": [10],\n",
    "                    \"max_depth\":  np.arange(2, 100).tolist() + [None], # [None, 5, 10, 15, 20, 30, 50], #\n",
    "                    \"criterion\": [\"gini\", \"entropy\"],\n",
    "                    \"max_features\": ['sqrt', 'log2', None],\n",
    "                    \"min_samples_split\": np.arange(2, 11).tolist(),\n",
    "                    \"min_samples_leaf\":  np.arange(1, 11).tolist(),\n",
    "                    'class_weight': [None, 'balanced', 'balanced_subsample'],  # Weight for each class\n",
    "                    \"oob_score\": [False],\n",
    "                    \"laplace\": [0,1]\n",
    "                    },\n",
    "    \n",
    "    \"oob\": False,\n",
    "    \"laplace\":0, # if set to 1, OOB must be false\n",
    "    \"curt_v\": np.arange(1, 100).tolist(),\n",
    "\n",
    "    \"exp_key\": \"data_name\",\n",
    "    \"exp_values\": [\n",
    "                  \"cm1\",\n",
    "                  \"datatrieve\",\n",
    "                  \"kc1_class_level_defectiveornot\",\n",
    "                  \"kc1\",\n",
    "                  \"kc2\",\n",
    "                  \"kc3\",\n",
    "                  \"pc1\",\n",
    "                  \"spect\",\n",
    "                  \"spectf\",\n",
    "                  \"vertebral\", \n",
    "                  \"wilt\",\n",
    "                  \"parkinsons\", \n",
    "                  \"heart\",\n",
    "                  \"wdbc\",\n",
    "                  \"bank\", \n",
    "                  \"ionosphere\", \n",
    "                  \"HRCompetencyScores\",\n",
    "                  \"spambase\", \n",
    "                  \"QSAR\", \n",
    "                  \"diabetes\", \n",
    "                  \"breast\", \n",
    "                  \"SPF\",\n",
    "                  \"hillvalley\",\n",
    "                  \"pc4\",\n",
    "                  \"scene\",\n",
    "                  \"Sonar_Mine_Rock_Data\",\n",
    "                  \"Customer_Churn\",\n",
    "                  \"jm1\",\n",
    "                  \"eeg\",\n",
    "                  \"phoneme\",\n",
    "                  ]\n",
    "}\n",
    "\n",
    "ct.save_params(params)"
   ]
  },
  {
   "cell_type": "code",
   "execution_count": 3,
   "metadata": {},
   "outputs": [
    {
     "name": "stdout",
     "output_type": "stream",
     "text": [
      "exp_param cm1 done\n",
      "exp_param datatrieve done\n"
     ]
    },
    {
     "name": "stderr",
     "output_type": "stream",
     "text": [
      "/home/ra38jof/projects/RFC/.venv/lib/python3.10/site-packages/skopt/optimizer/optimizer.py:517: UserWarning: The objective has been evaluated at point [0.001000095494077554] before, using random point [0.13706887488680972]\n",
      "  warnings.warn(\n",
      "/home/ra38jof/projects/RFC/.venv/lib/python3.10/site-packages/skopt/optimizer/optimizer.py:517: UserWarning: The objective has been evaluated at point [0.001000237500121655] before, using random point [0.018956091910972653]\n",
      "  warnings.warn(\n",
      "/home/ra38jof/projects/RFC/.venv/lib/python3.10/site-packages/skopt/optimizer/optimizer.py:517: UserWarning: The objective has been evaluated at point [0.0010007332941835772] before, using random point [0.00589496677320964]\n",
      "  warnings.warn(\n",
      "/home/ra38jof/projects/RFC/.venv/lib/python3.10/site-packages/skopt/optimizer/optimizer.py:517: UserWarning: The objective has been evaluated at point [0.0010007332941835772] before, using random point [0.00589496677320964]\n",
      "  warnings.warn(\n"
     ]
    },
    {
     "name": "stdout",
     "output_type": "stream",
     "text": [
      "exp_param kc1_class_level_defectiveornot done\n",
      "exp_param kc1 done\n",
      "exp_param kc2 done\n",
      "exp_param kc3 done\n",
      "exp_param pc1 done\n",
      "exp_param spect done\n",
      "exp_param spectf done\n",
      "exp_param vertebral done\n",
      "exp_param wilt done\n",
      "exp_param parkinsons done\n",
      "exp_param heart done\n",
      "exp_param wdbc done\n",
      "exp_param bank done\n",
      "exp_param ionosphere done\n",
      "exp_param HRCompetencyScores done\n",
      "exp_param spambase done\n",
      "exp_param QSAR done\n",
      "exp_param diabetes done\n",
      "exp_param breast done\n",
      "exp_param SPF done\n",
      "exp_param hillvalley done\n",
      "exp_param pc4 done\n",
      "exp_param scene done\n"
     ]
    },
    {
     "name": "stderr",
     "output_type": "stream",
     "text": [
      "/home/ra38jof/projects/RFC/.venv/lib/python3.10/site-packages/skopt/optimizer/optimizer.py:517: UserWarning: The objective has been evaluated at point [0.001000095494077554] before, using random point [0.13706887488680972]\n",
      "  warnings.warn(\n",
      "/home/ra38jof/projects/RFC/.venv/lib/python3.10/site-packages/skopt/optimizer/optimizer.py:517: UserWarning: The objective has been evaluated at point [0.001000237500121655] before, using random point [0.018956091910972653]\n",
      "  warnings.warn(\n"
     ]
    },
    {
     "name": "stdout",
     "output_type": "stream",
     "text": [
      "exp_param Sonar_Mine_Rock_Data done\n",
      "exp_param Customer_Churn done\n",
      "exp_param jm1 done\n",
      "exp_param eeg done\n",
      "exp_param phoneme done\n"
     ]
    }
   ],
   "source": [
    "calib_results_dict, data_list = cx.run_exp(params[\"exp_key\"], params[\"exp_values\"], params)\n",
    "ct.save_results(calib_results_dict, params['exp_name'])"
   ]
  },
  {
   "cell_type": "code",
   "execution_count": 4,
   "metadata": {},
   "outputs": [],
   "source": [
    "tables = cal.mean_and_ranking_table(calib_results_dict, \n",
    "                                    params[\"metrics\"], \n",
    "                                    params[\"calib_methods\"], \n",
    "                                    data_list, \n",
    "                                    mean_and_rank=True, \n",
    "                                    std=True)\n",
    "ct.save_metrics_to_csv(tables, params[\"metrics\"], params['exp_name'])"
   ]
  },
  {
   "cell_type": "code",
   "execution_count": 5,
   "metadata": {},
   "outputs": [
    {
     "name": "stdout",
     "output_type": "stream",
     "text": [
      "metric acc\n",
      "Friedman Test Statistic: 61.679955081414946\n",
      "P-value: 2.1799425037535008e-10\n",
      "The differences between groups are significant.\n",
      "metric brier\n",
      "Friedman Test Statistic: 55.626666666666665\n",
      "P-value: 3.3346846107677903e-09\n",
      "The differences between groups are significant.\n",
      "metric ece\n",
      "Friedman Test Statistic: 58.39999999999998\n",
      "P-value: 9.5924231986145e-10\n",
      "The differences between groups are significant.\n",
      "metric logloss\n",
      "Friedman Test Statistic: 157.72444444444454\n",
      "P-value: 4.782455245710116e-30\n",
      "The differences between groups are significant.\n",
      "metric time\n",
      "Friedman Test Statistic: 216.55111111111114\n",
      "P-value: 2.060873224013514e-42\n",
      "The differences between groups are significant.\n"
     ]
    }
   ],
   "source": [
    "ct.res_statistics(tables, params[\"metrics\"], f\"results/{params['exp_name']}\", colors=params[\"calib_method_colors\"])"
   ]
  },
  {
   "cell_type": "code",
   "execution_count": 6,
   "metadata": {},
   "outputs": [],
   "source": [
    "ct.save_metrics_to_latex(tables, params[\"metrics\"], params['exp_name'])"
   ]
  },
  {
   "cell_type": "code",
   "execution_count": 7,
   "metadata": {},
   "outputs": [
    {
     "data": {
      "text/plain": [
       "dict_keys(['cm1_RF_d_runtime', 'cm1_RF_opt_runtime', 'cm1_Platt_runtime', 'cm1_ISO_runtime', 'cm1_PPA_runtime', 'cm1_Shaker_runtime', 'cm1_VA_runtime', 'cm1_Beta_runtime', 'cm1_CT_runtime', 'cm1_RF_d_time', 'cm1_RF_opt_time', 'cm1_Platt_time', 'cm1_ISO_time', 'cm1_Beta_time', 'cm1_VA_time', 'cm1_CT_time', 'cm1_PPA_time', 'cm1_Shaker_time', 'cm1_RF_d_acc', 'cm1_RF_opt_acc', 'cm1_Platt_acc', 'cm1_ISO_acc', 'cm1_Beta_acc', 'cm1_VA_acc', 'cm1_CT_acc', 'cm1_PPA_acc', 'cm1_Shaker_acc', 'cm1_RF_d_ece', 'cm1_RF_opt_ece', 'cm1_Platt_ece', 'cm1_ISO_ece', 'cm1_Beta_ece', 'cm1_VA_ece', 'cm1_CT_ece', 'cm1_PPA_ece', 'cm1_Shaker_ece', 'cm1_RF_d_brier', 'cm1_RF_opt_brier', 'cm1_Platt_brier', 'cm1_ISO_brier', 'cm1_Beta_brier', 'cm1_VA_brier', 'cm1_CT_brier', 'cm1_PPA_brier', 'cm1_Shaker_brier', 'cm1_RF_d_logloss', 'cm1_RF_opt_logloss', 'cm1_Platt_logloss', 'cm1_ISO_logloss', 'cm1_Beta_logloss', 'cm1_VA_logloss', 'cm1_CT_logloss', 'cm1_PPA_logloss', 'cm1_Shaker_logloss', 'datatrieve_RF_d_runtime', 'datatrieve_RF_opt_runtime', 'datatrieve_Platt_runtime', 'datatrieve_ISO_runtime', 'datatrieve_PPA_runtime', 'datatrieve_Shaker_runtime', 'datatrieve_VA_runtime', 'datatrieve_Beta_runtime', 'datatrieve_CT_runtime', 'datatrieve_RF_d_time', 'datatrieve_RF_opt_time', 'datatrieve_Platt_time', 'datatrieve_ISO_time', 'datatrieve_Beta_time', 'datatrieve_VA_time', 'datatrieve_CT_time', 'datatrieve_PPA_time', 'datatrieve_Shaker_time', 'datatrieve_RF_d_acc', 'datatrieve_RF_opt_acc', 'datatrieve_Platt_acc', 'datatrieve_ISO_acc', 'datatrieve_Beta_acc', 'datatrieve_VA_acc', 'datatrieve_CT_acc', 'datatrieve_PPA_acc', 'datatrieve_Shaker_acc', 'datatrieve_RF_d_ece', 'datatrieve_RF_opt_ece', 'datatrieve_Platt_ece', 'datatrieve_ISO_ece', 'datatrieve_Beta_ece', 'datatrieve_VA_ece', 'datatrieve_CT_ece', 'datatrieve_PPA_ece', 'datatrieve_Shaker_ece', 'datatrieve_RF_d_brier', 'datatrieve_RF_opt_brier', 'datatrieve_Platt_brier', 'datatrieve_ISO_brier', 'datatrieve_Beta_brier', 'datatrieve_VA_brier', 'datatrieve_CT_brier', 'datatrieve_PPA_brier', 'datatrieve_Shaker_brier', 'datatrieve_RF_d_logloss', 'datatrieve_RF_opt_logloss', 'datatrieve_Platt_logloss', 'datatrieve_ISO_logloss', 'datatrieve_Beta_logloss', 'datatrieve_VA_logloss', 'datatrieve_CT_logloss', 'datatrieve_PPA_logloss', 'datatrieve_Shaker_logloss', 'kc1_class_level_defectiveornot_RF_d_runtime', 'kc1_class_level_defectiveornot_RF_opt_runtime', 'kc1_class_level_defectiveornot_Platt_runtime', 'kc1_class_level_defectiveornot_ISO_runtime', 'kc1_class_level_defectiveornot_PPA_runtime', 'kc1_class_level_defectiveornot_Shaker_runtime', 'kc1_class_level_defectiveornot_VA_runtime', 'kc1_class_level_defectiveornot_Beta_runtime', 'kc1_class_level_defectiveornot_CT_runtime', 'kc1_class_level_defectiveornot_RF_d_time', 'kc1_class_level_defectiveornot_RF_opt_time', 'kc1_class_level_defectiveornot_Platt_time', 'kc1_class_level_defectiveornot_ISO_time', 'kc1_class_level_defectiveornot_Beta_time', 'kc1_class_level_defectiveornot_VA_time', 'kc1_class_level_defectiveornot_CT_time', 'kc1_class_level_defectiveornot_PPA_time', 'kc1_class_level_defectiveornot_Shaker_time', 'kc1_class_level_defectiveornot_RF_d_acc', 'kc1_class_level_defectiveornot_RF_opt_acc', 'kc1_class_level_defectiveornot_Platt_acc', 'kc1_class_level_defectiveornot_ISO_acc', 'kc1_class_level_defectiveornot_Beta_acc', 'kc1_class_level_defectiveornot_VA_acc', 'kc1_class_level_defectiveornot_CT_acc', 'kc1_class_level_defectiveornot_PPA_acc', 'kc1_class_level_defectiveornot_Shaker_acc', 'kc1_class_level_defectiveornot_RF_d_ece', 'kc1_class_level_defectiveornot_RF_opt_ece', 'kc1_class_level_defectiveornot_Platt_ece', 'kc1_class_level_defectiveornot_ISO_ece', 'kc1_class_level_defectiveornot_Beta_ece', 'kc1_class_level_defectiveornot_VA_ece', 'kc1_class_level_defectiveornot_CT_ece', 'kc1_class_level_defectiveornot_PPA_ece', 'kc1_class_level_defectiveornot_Shaker_ece', 'kc1_class_level_defectiveornot_RF_d_brier', 'kc1_class_level_defectiveornot_RF_opt_brier', 'kc1_class_level_defectiveornot_Platt_brier', 'kc1_class_level_defectiveornot_ISO_brier', 'kc1_class_level_defectiveornot_Beta_brier', 'kc1_class_level_defectiveornot_VA_brier', 'kc1_class_level_defectiveornot_CT_brier', 'kc1_class_level_defectiveornot_PPA_brier', 'kc1_class_level_defectiveornot_Shaker_brier', 'kc1_class_level_defectiveornot_RF_d_logloss', 'kc1_class_level_defectiveornot_RF_opt_logloss', 'kc1_class_level_defectiveornot_Platt_logloss', 'kc1_class_level_defectiveornot_ISO_logloss', 'kc1_class_level_defectiveornot_Beta_logloss', 'kc1_class_level_defectiveornot_VA_logloss', 'kc1_class_level_defectiveornot_CT_logloss', 'kc1_class_level_defectiveornot_PPA_logloss', 'kc1_class_level_defectiveornot_Shaker_logloss', 'kc1_RF_d_runtime', 'kc1_RF_opt_runtime', 'kc1_Platt_runtime', 'kc1_ISO_runtime', 'kc1_PPA_runtime', 'kc1_Shaker_runtime', 'kc1_VA_runtime', 'kc1_Beta_runtime', 'kc1_CT_runtime', 'kc1_RF_d_time', 'kc1_RF_opt_time', 'kc1_Platt_time', 'kc1_ISO_time', 'kc1_Beta_time', 'kc1_VA_time', 'kc1_CT_time', 'kc1_PPA_time', 'kc1_Shaker_time', 'kc1_RF_d_acc', 'kc1_RF_opt_acc', 'kc1_Platt_acc', 'kc1_ISO_acc', 'kc1_Beta_acc', 'kc1_VA_acc', 'kc1_CT_acc', 'kc1_PPA_acc', 'kc1_Shaker_acc', 'kc1_RF_d_ece', 'kc1_RF_opt_ece', 'kc1_Platt_ece', 'kc1_ISO_ece', 'kc1_Beta_ece', 'kc1_VA_ece', 'kc1_CT_ece', 'kc1_PPA_ece', 'kc1_Shaker_ece', 'kc1_RF_d_brier', 'kc1_RF_opt_brier', 'kc1_Platt_brier', 'kc1_ISO_brier', 'kc1_Beta_brier', 'kc1_VA_brier', 'kc1_CT_brier', 'kc1_PPA_brier', 'kc1_Shaker_brier', 'kc1_RF_d_logloss', 'kc1_RF_opt_logloss', 'kc1_Platt_logloss', 'kc1_ISO_logloss', 'kc1_Beta_logloss', 'kc1_VA_logloss', 'kc1_CT_logloss', 'kc1_PPA_logloss', 'kc1_Shaker_logloss', 'kc2_RF_d_runtime', 'kc2_RF_opt_runtime', 'kc2_Platt_runtime', 'kc2_ISO_runtime', 'kc2_PPA_runtime', 'kc2_Shaker_runtime', 'kc2_VA_runtime', 'kc2_Beta_runtime', 'kc2_CT_runtime', 'kc2_RF_d_time', 'kc2_RF_opt_time', 'kc2_Platt_time', 'kc2_ISO_time', 'kc2_Beta_time', 'kc2_VA_time', 'kc2_CT_time', 'kc2_PPA_time', 'kc2_Shaker_time', 'kc2_RF_d_acc', 'kc2_RF_opt_acc', 'kc2_Platt_acc', 'kc2_ISO_acc', 'kc2_Beta_acc', 'kc2_VA_acc', 'kc2_CT_acc', 'kc2_PPA_acc', 'kc2_Shaker_acc', 'kc2_RF_d_ece', 'kc2_RF_opt_ece', 'kc2_Platt_ece', 'kc2_ISO_ece', 'kc2_Beta_ece', 'kc2_VA_ece', 'kc2_CT_ece', 'kc2_PPA_ece', 'kc2_Shaker_ece', 'kc2_RF_d_brier', 'kc2_RF_opt_brier', 'kc2_Platt_brier', 'kc2_ISO_brier', 'kc2_Beta_brier', 'kc2_VA_brier', 'kc2_CT_brier', 'kc2_PPA_brier', 'kc2_Shaker_brier', 'kc2_RF_d_logloss', 'kc2_RF_opt_logloss', 'kc2_Platt_logloss', 'kc2_ISO_logloss', 'kc2_Beta_logloss', 'kc2_VA_logloss', 'kc2_CT_logloss', 'kc2_PPA_logloss', 'kc2_Shaker_logloss', 'kc3_RF_d_runtime', 'kc3_RF_opt_runtime', 'kc3_Platt_runtime', 'kc3_ISO_runtime', 'kc3_PPA_runtime', 'kc3_Shaker_runtime', 'kc3_VA_runtime', 'kc3_Beta_runtime', 'kc3_CT_runtime', 'kc3_RF_d_time', 'kc3_RF_opt_time', 'kc3_Platt_time', 'kc3_ISO_time', 'kc3_Beta_time', 'kc3_VA_time', 'kc3_CT_time', 'kc3_PPA_time', 'kc3_Shaker_time', 'kc3_RF_d_acc', 'kc3_RF_opt_acc', 'kc3_Platt_acc', 'kc3_ISO_acc', 'kc3_Beta_acc', 'kc3_VA_acc', 'kc3_CT_acc', 'kc3_PPA_acc', 'kc3_Shaker_acc', 'kc3_RF_d_ece', 'kc3_RF_opt_ece', 'kc3_Platt_ece', 'kc3_ISO_ece', 'kc3_Beta_ece', 'kc3_VA_ece', 'kc3_CT_ece', 'kc3_PPA_ece', 'kc3_Shaker_ece', 'kc3_RF_d_brier', 'kc3_RF_opt_brier', 'kc3_Platt_brier', 'kc3_ISO_brier', 'kc3_Beta_brier', 'kc3_VA_brier', 'kc3_CT_brier', 'kc3_PPA_brier', 'kc3_Shaker_brier', 'kc3_RF_d_logloss', 'kc3_RF_opt_logloss', 'kc3_Platt_logloss', 'kc3_ISO_logloss', 'kc3_Beta_logloss', 'kc3_VA_logloss', 'kc3_CT_logloss', 'kc3_PPA_logloss', 'kc3_Shaker_logloss', 'pc1_RF_d_runtime', 'pc1_RF_opt_runtime', 'pc1_Platt_runtime', 'pc1_ISO_runtime', 'pc1_PPA_runtime', 'pc1_Shaker_runtime', 'pc1_VA_runtime', 'pc1_Beta_runtime', 'pc1_CT_runtime', 'pc1_RF_d_time', 'pc1_RF_opt_time', 'pc1_Platt_time', 'pc1_ISO_time', 'pc1_Beta_time', 'pc1_VA_time', 'pc1_CT_time', 'pc1_PPA_time', 'pc1_Shaker_time', 'pc1_RF_d_acc', 'pc1_RF_opt_acc', 'pc1_Platt_acc', 'pc1_ISO_acc', 'pc1_Beta_acc', 'pc1_VA_acc', 'pc1_CT_acc', 'pc1_PPA_acc', 'pc1_Shaker_acc', 'pc1_RF_d_ece', 'pc1_RF_opt_ece', 'pc1_Platt_ece', 'pc1_ISO_ece', 'pc1_Beta_ece', 'pc1_VA_ece', 'pc1_CT_ece', 'pc1_PPA_ece', 'pc1_Shaker_ece', 'pc1_RF_d_brier', 'pc1_RF_opt_brier', 'pc1_Platt_brier', 'pc1_ISO_brier', 'pc1_Beta_brier', 'pc1_VA_brier', 'pc1_CT_brier', 'pc1_PPA_brier', 'pc1_Shaker_brier', 'pc1_RF_d_logloss', 'pc1_RF_opt_logloss', 'pc1_Platt_logloss', 'pc1_ISO_logloss', 'pc1_Beta_logloss', 'pc1_VA_logloss', 'pc1_CT_logloss', 'pc1_PPA_logloss', 'pc1_Shaker_logloss', 'spect_RF_d_runtime', 'spect_RF_opt_runtime', 'spect_Platt_runtime', 'spect_ISO_runtime', 'spect_PPA_runtime', 'spect_Shaker_runtime', 'spect_VA_runtime', 'spect_Beta_runtime', 'spect_CT_runtime', 'spect_RF_d_time', 'spect_RF_opt_time', 'spect_Platt_time', 'spect_ISO_time', 'spect_Beta_time', 'spect_VA_time', 'spect_CT_time', 'spect_PPA_time', 'spect_Shaker_time', 'spect_RF_d_acc', 'spect_RF_opt_acc', 'spect_Platt_acc', 'spect_ISO_acc', 'spect_Beta_acc', 'spect_VA_acc', 'spect_CT_acc', 'spect_PPA_acc', 'spect_Shaker_acc', 'spect_RF_d_ece', 'spect_RF_opt_ece', 'spect_Platt_ece', 'spect_ISO_ece', 'spect_Beta_ece', 'spect_VA_ece', 'spect_CT_ece', 'spect_PPA_ece', 'spect_Shaker_ece', 'spect_RF_d_brier', 'spect_RF_opt_brier', 'spect_Platt_brier', 'spect_ISO_brier', 'spect_Beta_brier', 'spect_VA_brier', 'spect_CT_brier', 'spect_PPA_brier', 'spect_Shaker_brier', 'spect_RF_d_logloss', 'spect_RF_opt_logloss', 'spect_Platt_logloss', 'spect_ISO_logloss', 'spect_Beta_logloss', 'spect_VA_logloss', 'spect_CT_logloss', 'spect_PPA_logloss', 'spect_Shaker_logloss', 'spectf_RF_d_runtime', 'spectf_RF_opt_runtime', 'spectf_Platt_runtime', 'spectf_ISO_runtime', 'spectf_PPA_runtime', 'spectf_Shaker_runtime', 'spectf_VA_runtime', 'spectf_Beta_runtime', 'spectf_CT_runtime', 'spectf_RF_d_time', 'spectf_RF_opt_time', 'spectf_Platt_time', 'spectf_ISO_time', 'spectf_Beta_time', 'spectf_VA_time', 'spectf_CT_time', 'spectf_PPA_time', 'spectf_Shaker_time', 'spectf_RF_d_acc', 'spectf_RF_opt_acc', 'spectf_Platt_acc', 'spectf_ISO_acc', 'spectf_Beta_acc', 'spectf_VA_acc', 'spectf_CT_acc', 'spectf_PPA_acc', 'spectf_Shaker_acc', 'spectf_RF_d_ece', 'spectf_RF_opt_ece', 'spectf_Platt_ece', 'spectf_ISO_ece', 'spectf_Beta_ece', 'spectf_VA_ece', 'spectf_CT_ece', 'spectf_PPA_ece', 'spectf_Shaker_ece', 'spectf_RF_d_brier', 'spectf_RF_opt_brier', 'spectf_Platt_brier', 'spectf_ISO_brier', 'spectf_Beta_brier', 'spectf_VA_brier', 'spectf_CT_brier', 'spectf_PPA_brier', 'spectf_Shaker_brier', 'spectf_RF_d_logloss', 'spectf_RF_opt_logloss', 'spectf_Platt_logloss', 'spectf_ISO_logloss', 'spectf_Beta_logloss', 'spectf_VA_logloss', 'spectf_CT_logloss', 'spectf_PPA_logloss', 'spectf_Shaker_logloss', 'vertebral_RF_d_runtime', 'vertebral_RF_opt_runtime', 'vertebral_Platt_runtime', 'vertebral_ISO_runtime', 'vertebral_PPA_runtime', 'vertebral_Shaker_runtime', 'vertebral_VA_runtime', 'vertebral_Beta_runtime', 'vertebral_CT_runtime', 'vertebral_RF_d_time', 'vertebral_RF_opt_time', 'vertebral_Platt_time', 'vertebral_ISO_time', 'vertebral_Beta_time', 'vertebral_VA_time', 'vertebral_CT_time', 'vertebral_PPA_time', 'vertebral_Shaker_time', 'vertebral_RF_d_acc', 'vertebral_RF_opt_acc', 'vertebral_Platt_acc', 'vertebral_ISO_acc', 'vertebral_Beta_acc', 'vertebral_VA_acc', 'vertebral_CT_acc', 'vertebral_PPA_acc', 'vertebral_Shaker_acc', 'vertebral_RF_d_ece', 'vertebral_RF_opt_ece', 'vertebral_Platt_ece', 'vertebral_ISO_ece', 'vertebral_Beta_ece', 'vertebral_VA_ece', 'vertebral_CT_ece', 'vertebral_PPA_ece', 'vertebral_Shaker_ece', 'vertebral_RF_d_brier', 'vertebral_RF_opt_brier', 'vertebral_Platt_brier', 'vertebral_ISO_brier', 'vertebral_Beta_brier', 'vertebral_VA_brier', 'vertebral_CT_brier', 'vertebral_PPA_brier', 'vertebral_Shaker_brier', 'vertebral_RF_d_logloss', 'vertebral_RF_opt_logloss', 'vertebral_Platt_logloss', 'vertebral_ISO_logloss', 'vertebral_Beta_logloss', 'vertebral_VA_logloss', 'vertebral_CT_logloss', 'vertebral_PPA_logloss', 'vertebral_Shaker_logloss', 'wilt_RF_d_runtime', 'wilt_RF_opt_runtime', 'wilt_Platt_runtime', 'wilt_ISO_runtime', 'wilt_PPA_runtime', 'wilt_Shaker_runtime', 'wilt_VA_runtime', 'wilt_Beta_runtime', 'wilt_CT_runtime', 'wilt_RF_d_time', 'wilt_RF_opt_time', 'wilt_Platt_time', 'wilt_ISO_time', 'wilt_Beta_time', 'wilt_VA_time', 'wilt_CT_time', 'wilt_PPA_time', 'wilt_Shaker_time', 'wilt_RF_d_acc', 'wilt_RF_opt_acc', 'wilt_Platt_acc', 'wilt_ISO_acc', 'wilt_Beta_acc', 'wilt_VA_acc', 'wilt_CT_acc', 'wilt_PPA_acc', 'wilt_Shaker_acc', 'wilt_RF_d_ece', 'wilt_RF_opt_ece', 'wilt_Platt_ece', 'wilt_ISO_ece', 'wilt_Beta_ece', 'wilt_VA_ece', 'wilt_CT_ece', 'wilt_PPA_ece', 'wilt_Shaker_ece', 'wilt_RF_d_brier', 'wilt_RF_opt_brier', 'wilt_Platt_brier', 'wilt_ISO_brier', 'wilt_Beta_brier', 'wilt_VA_brier', 'wilt_CT_brier', 'wilt_PPA_brier', 'wilt_Shaker_brier', 'wilt_RF_d_logloss', 'wilt_RF_opt_logloss', 'wilt_Platt_logloss', 'wilt_ISO_logloss', 'wilt_Beta_logloss', 'wilt_VA_logloss', 'wilt_CT_logloss', 'wilt_PPA_logloss', 'wilt_Shaker_logloss', 'parkinsons_RF_d_runtime', 'parkinsons_RF_opt_runtime', 'parkinsons_Platt_runtime', 'parkinsons_ISO_runtime', 'parkinsons_PPA_runtime', 'parkinsons_Shaker_runtime', 'parkinsons_VA_runtime', 'parkinsons_Beta_runtime', 'parkinsons_CT_runtime', 'parkinsons_RF_d_time', 'parkinsons_RF_opt_time', 'parkinsons_Platt_time', 'parkinsons_ISO_time', 'parkinsons_Beta_time', 'parkinsons_VA_time', 'parkinsons_CT_time', 'parkinsons_PPA_time', 'parkinsons_Shaker_time', 'parkinsons_RF_d_acc', 'parkinsons_RF_opt_acc', 'parkinsons_Platt_acc', 'parkinsons_ISO_acc', 'parkinsons_Beta_acc', 'parkinsons_VA_acc', 'parkinsons_CT_acc', 'parkinsons_PPA_acc', 'parkinsons_Shaker_acc', 'parkinsons_RF_d_ece', 'parkinsons_RF_opt_ece', 'parkinsons_Platt_ece', 'parkinsons_ISO_ece', 'parkinsons_Beta_ece', 'parkinsons_VA_ece', 'parkinsons_CT_ece', 'parkinsons_PPA_ece', 'parkinsons_Shaker_ece', 'parkinsons_RF_d_brier', 'parkinsons_RF_opt_brier', 'parkinsons_Platt_brier', 'parkinsons_ISO_brier', 'parkinsons_Beta_brier', 'parkinsons_VA_brier', 'parkinsons_CT_brier', 'parkinsons_PPA_brier', 'parkinsons_Shaker_brier', 'parkinsons_RF_d_logloss', 'parkinsons_RF_opt_logloss', 'parkinsons_Platt_logloss', 'parkinsons_ISO_logloss', 'parkinsons_Beta_logloss', 'parkinsons_VA_logloss', 'parkinsons_CT_logloss', 'parkinsons_PPA_logloss', 'parkinsons_Shaker_logloss', 'heart_RF_d_runtime', 'heart_RF_opt_runtime', 'heart_Platt_runtime', 'heart_ISO_runtime', 'heart_PPA_runtime', 'heart_Shaker_runtime', 'heart_VA_runtime', 'heart_Beta_runtime', 'heart_CT_runtime', 'heart_RF_d_time', 'heart_RF_opt_time', 'heart_Platt_time', 'heart_ISO_time', 'heart_Beta_time', 'heart_VA_time', 'heart_CT_time', 'heart_PPA_time', 'heart_Shaker_time', 'heart_RF_d_acc', 'heart_RF_opt_acc', 'heart_Platt_acc', 'heart_ISO_acc', 'heart_Beta_acc', 'heart_VA_acc', 'heart_CT_acc', 'heart_PPA_acc', 'heart_Shaker_acc', 'heart_RF_d_ece', 'heart_RF_opt_ece', 'heart_Platt_ece', 'heart_ISO_ece', 'heart_Beta_ece', 'heart_VA_ece', 'heart_CT_ece', 'heart_PPA_ece', 'heart_Shaker_ece', 'heart_RF_d_brier', 'heart_RF_opt_brier', 'heart_Platt_brier', 'heart_ISO_brier', 'heart_Beta_brier', 'heart_VA_brier', 'heart_CT_brier', 'heart_PPA_brier', 'heart_Shaker_brier', 'heart_RF_d_logloss', 'heart_RF_opt_logloss', 'heart_Platt_logloss', 'heart_ISO_logloss', 'heart_Beta_logloss', 'heart_VA_logloss', 'heart_CT_logloss', 'heart_PPA_logloss', 'heart_Shaker_logloss', 'wdbc_RF_d_runtime', 'wdbc_RF_opt_runtime', 'wdbc_Platt_runtime', 'wdbc_ISO_runtime', 'wdbc_PPA_runtime', 'wdbc_Shaker_runtime', 'wdbc_VA_runtime', 'wdbc_Beta_runtime', 'wdbc_CT_runtime', 'wdbc_RF_d_time', 'wdbc_RF_opt_time', 'wdbc_Platt_time', 'wdbc_ISO_time', 'wdbc_Beta_time', 'wdbc_VA_time', 'wdbc_CT_time', 'wdbc_PPA_time', 'wdbc_Shaker_time', 'wdbc_RF_d_acc', 'wdbc_RF_opt_acc', 'wdbc_Platt_acc', 'wdbc_ISO_acc', 'wdbc_Beta_acc', 'wdbc_VA_acc', 'wdbc_CT_acc', 'wdbc_PPA_acc', 'wdbc_Shaker_acc', 'wdbc_RF_d_ece', 'wdbc_RF_opt_ece', 'wdbc_Platt_ece', 'wdbc_ISO_ece', 'wdbc_Beta_ece', 'wdbc_VA_ece', 'wdbc_CT_ece', 'wdbc_PPA_ece', 'wdbc_Shaker_ece', 'wdbc_RF_d_brier', 'wdbc_RF_opt_brier', 'wdbc_Platt_brier', 'wdbc_ISO_brier', 'wdbc_Beta_brier', 'wdbc_VA_brier', 'wdbc_CT_brier', 'wdbc_PPA_brier', 'wdbc_Shaker_brier', 'wdbc_RF_d_logloss', 'wdbc_RF_opt_logloss', 'wdbc_Platt_logloss', 'wdbc_ISO_logloss', 'wdbc_Beta_logloss', 'wdbc_VA_logloss', 'wdbc_CT_logloss', 'wdbc_PPA_logloss', 'wdbc_Shaker_logloss', 'bank_RF_d_runtime', 'bank_RF_opt_runtime', 'bank_Platt_runtime', 'bank_ISO_runtime', 'bank_PPA_runtime', 'bank_Shaker_runtime', 'bank_VA_runtime', 'bank_Beta_runtime', 'bank_CT_runtime', 'bank_RF_d_time', 'bank_RF_opt_time', 'bank_Platt_time', 'bank_ISO_time', 'bank_Beta_time', 'bank_VA_time', 'bank_CT_time', 'bank_PPA_time', 'bank_Shaker_time', 'bank_RF_d_acc', 'bank_RF_opt_acc', 'bank_Platt_acc', 'bank_ISO_acc', 'bank_Beta_acc', 'bank_VA_acc', 'bank_CT_acc', 'bank_PPA_acc', 'bank_Shaker_acc', 'bank_RF_d_ece', 'bank_RF_opt_ece', 'bank_Platt_ece', 'bank_ISO_ece', 'bank_Beta_ece', 'bank_VA_ece', 'bank_CT_ece', 'bank_PPA_ece', 'bank_Shaker_ece', 'bank_RF_d_brier', 'bank_RF_opt_brier', 'bank_Platt_brier', 'bank_ISO_brier', 'bank_Beta_brier', 'bank_VA_brier', 'bank_CT_brier', 'bank_PPA_brier', 'bank_Shaker_brier', 'bank_RF_d_logloss', 'bank_RF_opt_logloss', 'bank_Platt_logloss', 'bank_ISO_logloss', 'bank_Beta_logloss', 'bank_VA_logloss', 'bank_CT_logloss', 'bank_PPA_logloss', 'bank_Shaker_logloss', 'ionosphere_RF_d_runtime', 'ionosphere_RF_opt_runtime', 'ionosphere_Platt_runtime', 'ionosphere_ISO_runtime', 'ionosphere_PPA_runtime', 'ionosphere_Shaker_runtime', 'ionosphere_VA_runtime', 'ionosphere_Beta_runtime', 'ionosphere_CT_runtime', 'ionosphere_RF_d_time', 'ionosphere_RF_opt_time', 'ionosphere_Platt_time', 'ionosphere_ISO_time', 'ionosphere_Beta_time', 'ionosphere_VA_time', 'ionosphere_CT_time', 'ionosphere_PPA_time', 'ionosphere_Shaker_time', 'ionosphere_RF_d_acc', 'ionosphere_RF_opt_acc', 'ionosphere_Platt_acc', 'ionosphere_ISO_acc', 'ionosphere_Beta_acc', 'ionosphere_VA_acc', 'ionosphere_CT_acc', 'ionosphere_PPA_acc', 'ionosphere_Shaker_acc', 'ionosphere_RF_d_ece', 'ionosphere_RF_opt_ece', 'ionosphere_Platt_ece', 'ionosphere_ISO_ece', 'ionosphere_Beta_ece', 'ionosphere_VA_ece', 'ionosphere_CT_ece', 'ionosphere_PPA_ece', 'ionosphere_Shaker_ece', 'ionosphere_RF_d_brier', 'ionosphere_RF_opt_brier', 'ionosphere_Platt_brier', 'ionosphere_ISO_brier', 'ionosphere_Beta_brier', 'ionosphere_VA_brier', 'ionosphere_CT_brier', 'ionosphere_PPA_brier', 'ionosphere_Shaker_brier', 'ionosphere_RF_d_logloss', 'ionosphere_RF_opt_logloss', 'ionosphere_Platt_logloss', 'ionosphere_ISO_logloss', 'ionosphere_Beta_logloss', 'ionosphere_VA_logloss', 'ionosphere_CT_logloss', 'ionosphere_PPA_logloss', 'ionosphere_Shaker_logloss', 'HRCompetencyScores_RF_d_runtime', 'HRCompetencyScores_RF_opt_runtime', 'HRCompetencyScores_Platt_runtime', 'HRCompetencyScores_ISO_runtime', 'HRCompetencyScores_PPA_runtime', 'HRCompetencyScores_Shaker_runtime', 'HRCompetencyScores_VA_runtime', 'HRCompetencyScores_Beta_runtime', 'HRCompetencyScores_CT_runtime', 'HRCompetencyScores_RF_d_time', 'HRCompetencyScores_RF_opt_time', 'HRCompetencyScores_Platt_time', 'HRCompetencyScores_ISO_time', 'HRCompetencyScores_Beta_time', 'HRCompetencyScores_VA_time', 'HRCompetencyScores_CT_time', 'HRCompetencyScores_PPA_time', 'HRCompetencyScores_Shaker_time', 'HRCompetencyScores_RF_d_acc', 'HRCompetencyScores_RF_opt_acc', 'HRCompetencyScores_Platt_acc', 'HRCompetencyScores_ISO_acc', 'HRCompetencyScores_Beta_acc', 'HRCompetencyScores_VA_acc', 'HRCompetencyScores_CT_acc', 'HRCompetencyScores_PPA_acc', 'HRCompetencyScores_Shaker_acc', 'HRCompetencyScores_RF_d_ece', 'HRCompetencyScores_RF_opt_ece', 'HRCompetencyScores_Platt_ece', 'HRCompetencyScores_ISO_ece', 'HRCompetencyScores_Beta_ece', 'HRCompetencyScores_VA_ece', 'HRCompetencyScores_CT_ece', 'HRCompetencyScores_PPA_ece', 'HRCompetencyScores_Shaker_ece', 'HRCompetencyScores_RF_d_brier', 'HRCompetencyScores_RF_opt_brier', 'HRCompetencyScores_Platt_brier', 'HRCompetencyScores_ISO_brier', 'HRCompetencyScores_Beta_brier', 'HRCompetencyScores_VA_brier', 'HRCompetencyScores_CT_brier', 'HRCompetencyScores_PPA_brier', 'HRCompetencyScores_Shaker_brier', 'HRCompetencyScores_RF_d_logloss', 'HRCompetencyScores_RF_opt_logloss', 'HRCompetencyScores_Platt_logloss', 'HRCompetencyScores_ISO_logloss', 'HRCompetencyScores_Beta_logloss', 'HRCompetencyScores_VA_logloss', 'HRCompetencyScores_CT_logloss', 'HRCompetencyScores_PPA_logloss', 'HRCompetencyScores_Shaker_logloss', 'spambase_RF_d_runtime', 'spambase_RF_opt_runtime', 'spambase_Platt_runtime', 'spambase_ISO_runtime', 'spambase_PPA_runtime', 'spambase_Shaker_runtime', 'spambase_VA_runtime', 'spambase_Beta_runtime', 'spambase_CT_runtime', 'spambase_RF_d_time', 'spambase_RF_opt_time', 'spambase_Platt_time', 'spambase_ISO_time', 'spambase_Beta_time', 'spambase_VA_time', 'spambase_CT_time', 'spambase_PPA_time', 'spambase_Shaker_time', 'spambase_RF_d_acc', 'spambase_RF_opt_acc', 'spambase_Platt_acc', 'spambase_ISO_acc', 'spambase_Beta_acc', 'spambase_VA_acc', 'spambase_CT_acc', 'spambase_PPA_acc', 'spambase_Shaker_acc', 'spambase_RF_d_ece', 'spambase_RF_opt_ece', 'spambase_Platt_ece', 'spambase_ISO_ece', 'spambase_Beta_ece', 'spambase_VA_ece', 'spambase_CT_ece', 'spambase_PPA_ece', 'spambase_Shaker_ece', 'spambase_RF_d_brier', 'spambase_RF_opt_brier', 'spambase_Platt_brier', 'spambase_ISO_brier', 'spambase_Beta_brier', 'spambase_VA_brier', 'spambase_CT_brier', 'spambase_PPA_brier', 'spambase_Shaker_brier', 'spambase_RF_d_logloss', 'spambase_RF_opt_logloss', 'spambase_Platt_logloss', 'spambase_ISO_logloss', 'spambase_Beta_logloss', 'spambase_VA_logloss', 'spambase_CT_logloss', 'spambase_PPA_logloss', 'spambase_Shaker_logloss', 'QSAR_RF_d_runtime', 'QSAR_RF_opt_runtime', 'QSAR_Platt_runtime', 'QSAR_ISO_runtime', 'QSAR_PPA_runtime', 'QSAR_Shaker_runtime', 'QSAR_VA_runtime', 'QSAR_Beta_runtime', 'QSAR_CT_runtime', 'QSAR_RF_d_time', 'QSAR_RF_opt_time', 'QSAR_Platt_time', 'QSAR_ISO_time', 'QSAR_Beta_time', 'QSAR_VA_time', 'QSAR_CT_time', 'QSAR_PPA_time', 'QSAR_Shaker_time', 'QSAR_RF_d_acc', 'QSAR_RF_opt_acc', 'QSAR_Platt_acc', 'QSAR_ISO_acc', 'QSAR_Beta_acc', 'QSAR_VA_acc', 'QSAR_CT_acc', 'QSAR_PPA_acc', 'QSAR_Shaker_acc', 'QSAR_RF_d_ece', 'QSAR_RF_opt_ece', 'QSAR_Platt_ece', 'QSAR_ISO_ece', 'QSAR_Beta_ece', 'QSAR_VA_ece', 'QSAR_CT_ece', 'QSAR_PPA_ece', 'QSAR_Shaker_ece', 'QSAR_RF_d_brier', 'QSAR_RF_opt_brier', 'QSAR_Platt_brier', 'QSAR_ISO_brier', 'QSAR_Beta_brier', 'QSAR_VA_brier', 'QSAR_CT_brier', 'QSAR_PPA_brier', 'QSAR_Shaker_brier', 'QSAR_RF_d_logloss', 'QSAR_RF_opt_logloss', 'QSAR_Platt_logloss', 'QSAR_ISO_logloss', 'QSAR_Beta_logloss', 'QSAR_VA_logloss', 'QSAR_CT_logloss', 'QSAR_PPA_logloss', 'QSAR_Shaker_logloss', 'diabetes_RF_d_runtime', 'diabetes_RF_opt_runtime', 'diabetes_Platt_runtime', 'diabetes_ISO_runtime', 'diabetes_PPA_runtime', 'diabetes_Shaker_runtime', 'diabetes_VA_runtime', 'diabetes_Beta_runtime', 'diabetes_CT_runtime', 'diabetes_RF_d_time', 'diabetes_RF_opt_time', 'diabetes_Platt_time', 'diabetes_ISO_time', 'diabetes_Beta_time', 'diabetes_VA_time', 'diabetes_CT_time', 'diabetes_PPA_time', 'diabetes_Shaker_time', 'diabetes_RF_d_acc', 'diabetes_RF_opt_acc', 'diabetes_Platt_acc', 'diabetes_ISO_acc', 'diabetes_Beta_acc', 'diabetes_VA_acc', 'diabetes_CT_acc', 'diabetes_PPA_acc', 'diabetes_Shaker_acc', 'diabetes_RF_d_ece', 'diabetes_RF_opt_ece', 'diabetes_Platt_ece', 'diabetes_ISO_ece', 'diabetes_Beta_ece', 'diabetes_VA_ece', 'diabetes_CT_ece', 'diabetes_PPA_ece', 'diabetes_Shaker_ece', 'diabetes_RF_d_brier', 'diabetes_RF_opt_brier', 'diabetes_Platt_brier', 'diabetes_ISO_brier', 'diabetes_Beta_brier', 'diabetes_VA_brier', 'diabetes_CT_brier', 'diabetes_PPA_brier', 'diabetes_Shaker_brier', 'diabetes_RF_d_logloss', 'diabetes_RF_opt_logloss', 'diabetes_Platt_logloss', 'diabetes_ISO_logloss', 'diabetes_Beta_logloss', 'diabetes_VA_logloss', 'diabetes_CT_logloss', 'diabetes_PPA_logloss', 'diabetes_Shaker_logloss', 'breast_RF_d_runtime', 'breast_RF_opt_runtime', 'breast_Platt_runtime', 'breast_ISO_runtime', 'breast_PPA_runtime', 'breast_Shaker_runtime', 'breast_VA_runtime', 'breast_Beta_runtime', 'breast_CT_runtime', 'breast_RF_d_time', 'breast_RF_opt_time', 'breast_Platt_time', 'breast_ISO_time', 'breast_Beta_time', 'breast_VA_time', 'breast_CT_time', 'breast_PPA_time', 'breast_Shaker_time', 'breast_RF_d_acc', 'breast_RF_opt_acc', 'breast_Platt_acc', 'breast_ISO_acc', 'breast_Beta_acc', 'breast_VA_acc', 'breast_CT_acc', 'breast_PPA_acc', 'breast_Shaker_acc', 'breast_RF_d_ece', 'breast_RF_opt_ece', 'breast_Platt_ece', 'breast_ISO_ece', 'breast_Beta_ece', 'breast_VA_ece', 'breast_CT_ece', 'breast_PPA_ece', 'breast_Shaker_ece', 'breast_RF_d_brier', 'breast_RF_opt_brier', 'breast_Platt_brier', 'breast_ISO_brier', 'breast_Beta_brier', 'breast_VA_brier', 'breast_CT_brier', 'breast_PPA_brier', 'breast_Shaker_brier', 'breast_RF_d_logloss', 'breast_RF_opt_logloss', 'breast_Platt_logloss', 'breast_ISO_logloss', 'breast_Beta_logloss', 'breast_VA_logloss', 'breast_CT_logloss', 'breast_PPA_logloss', 'breast_Shaker_logloss', 'SPF_RF_d_runtime', 'SPF_RF_opt_runtime', 'SPF_Platt_runtime', 'SPF_ISO_runtime', 'SPF_PPA_runtime', 'SPF_Shaker_runtime', 'SPF_VA_runtime', 'SPF_Beta_runtime', 'SPF_CT_runtime', 'SPF_RF_d_time', 'SPF_RF_opt_time', 'SPF_Platt_time', 'SPF_ISO_time', 'SPF_Beta_time', 'SPF_VA_time', 'SPF_CT_time', 'SPF_PPA_time', 'SPF_Shaker_time', 'SPF_RF_d_acc', 'SPF_RF_opt_acc', 'SPF_Platt_acc', 'SPF_ISO_acc', 'SPF_Beta_acc', 'SPF_VA_acc', 'SPF_CT_acc', 'SPF_PPA_acc', 'SPF_Shaker_acc', 'SPF_RF_d_ece', 'SPF_RF_opt_ece', 'SPF_Platt_ece', 'SPF_ISO_ece', 'SPF_Beta_ece', 'SPF_VA_ece', 'SPF_CT_ece', 'SPF_PPA_ece', 'SPF_Shaker_ece', 'SPF_RF_d_brier', 'SPF_RF_opt_brier', 'SPF_Platt_brier', 'SPF_ISO_brier', 'SPF_Beta_brier', 'SPF_VA_brier', 'SPF_CT_brier', 'SPF_PPA_brier', 'SPF_Shaker_brier', 'SPF_RF_d_logloss', 'SPF_RF_opt_logloss', 'SPF_Platt_logloss', 'SPF_ISO_logloss', 'SPF_Beta_logloss', 'SPF_VA_logloss', 'SPF_CT_logloss', 'SPF_PPA_logloss', 'SPF_Shaker_logloss', 'hillvalley_RF_d_runtime', 'hillvalley_RF_opt_runtime', 'hillvalley_Platt_runtime', 'hillvalley_ISO_runtime', 'hillvalley_PPA_runtime', 'hillvalley_Shaker_runtime', 'hillvalley_VA_runtime', 'hillvalley_Beta_runtime', 'hillvalley_CT_runtime', 'hillvalley_RF_d_time', 'hillvalley_RF_opt_time', 'hillvalley_Platt_time', 'hillvalley_ISO_time', 'hillvalley_Beta_time', 'hillvalley_VA_time', 'hillvalley_CT_time', 'hillvalley_PPA_time', 'hillvalley_Shaker_time', 'hillvalley_RF_d_acc', 'hillvalley_RF_opt_acc', 'hillvalley_Platt_acc', 'hillvalley_ISO_acc', 'hillvalley_Beta_acc', 'hillvalley_VA_acc', 'hillvalley_CT_acc', 'hillvalley_PPA_acc', 'hillvalley_Shaker_acc', 'hillvalley_RF_d_ece', 'hillvalley_RF_opt_ece', 'hillvalley_Platt_ece', 'hillvalley_ISO_ece', 'hillvalley_Beta_ece', 'hillvalley_VA_ece', 'hillvalley_CT_ece', 'hillvalley_PPA_ece', 'hillvalley_Shaker_ece', 'hillvalley_RF_d_brier', 'hillvalley_RF_opt_brier', 'hillvalley_Platt_brier', 'hillvalley_ISO_brier', 'hillvalley_Beta_brier', 'hillvalley_VA_brier', 'hillvalley_CT_brier', 'hillvalley_PPA_brier', 'hillvalley_Shaker_brier', 'hillvalley_RF_d_logloss', 'hillvalley_RF_opt_logloss', 'hillvalley_Platt_logloss', 'hillvalley_ISO_logloss', 'hillvalley_Beta_logloss', 'hillvalley_VA_logloss', 'hillvalley_CT_logloss', 'hillvalley_PPA_logloss', 'hillvalley_Shaker_logloss', 'pc4_RF_d_runtime', 'pc4_RF_opt_runtime', 'pc4_Platt_runtime', 'pc4_ISO_runtime', 'pc4_PPA_runtime', 'pc4_Shaker_runtime', 'pc4_VA_runtime', 'pc4_Beta_runtime', 'pc4_CT_runtime', 'pc4_RF_d_time', 'pc4_RF_opt_time', 'pc4_Platt_time', 'pc4_ISO_time', 'pc4_Beta_time', 'pc4_VA_time', 'pc4_CT_time', 'pc4_PPA_time', 'pc4_Shaker_time', 'pc4_RF_d_acc', 'pc4_RF_opt_acc', 'pc4_Platt_acc', 'pc4_ISO_acc', 'pc4_Beta_acc', 'pc4_VA_acc', 'pc4_CT_acc', 'pc4_PPA_acc', 'pc4_Shaker_acc', 'pc4_RF_d_ece', 'pc4_RF_opt_ece', 'pc4_Platt_ece', 'pc4_ISO_ece', 'pc4_Beta_ece', 'pc4_VA_ece', 'pc4_CT_ece', 'pc4_PPA_ece', 'pc4_Shaker_ece', 'pc4_RF_d_brier', 'pc4_RF_opt_brier', 'pc4_Platt_brier', 'pc4_ISO_brier', 'pc4_Beta_brier', 'pc4_VA_brier', 'pc4_CT_brier', 'pc4_PPA_brier', 'pc4_Shaker_brier', 'pc4_RF_d_logloss', 'pc4_RF_opt_logloss', 'pc4_Platt_logloss', 'pc4_ISO_logloss', 'pc4_Beta_logloss', 'pc4_VA_logloss', 'pc4_CT_logloss', 'pc4_PPA_logloss', 'pc4_Shaker_logloss', 'scene_RF_d_runtime', 'scene_RF_opt_runtime', 'scene_Platt_runtime', 'scene_ISO_runtime', 'scene_PPA_runtime', 'scene_Shaker_runtime', 'scene_VA_runtime', 'scene_Beta_runtime', 'scene_CT_runtime', 'scene_RF_d_time', 'scene_RF_opt_time', 'scene_Platt_time', 'scene_ISO_time', 'scene_Beta_time', 'scene_VA_time', 'scene_CT_time', 'scene_PPA_time', 'scene_Shaker_time', 'scene_RF_d_acc', 'scene_RF_opt_acc', 'scene_Platt_acc', 'scene_ISO_acc', 'scene_Beta_acc', 'scene_VA_acc', 'scene_CT_acc', 'scene_PPA_acc', 'scene_Shaker_acc', 'scene_RF_d_ece', 'scene_RF_opt_ece', 'scene_Platt_ece', 'scene_ISO_ece', 'scene_Beta_ece', 'scene_VA_ece', 'scene_CT_ece', 'scene_PPA_ece', 'scene_Shaker_ece', 'scene_RF_d_brier', 'scene_RF_opt_brier', 'scene_Platt_brier', 'scene_ISO_brier', 'scene_Beta_brier', 'scene_VA_brier', 'scene_CT_brier', 'scene_PPA_brier', 'scene_Shaker_brier', 'scene_RF_d_logloss', 'scene_RF_opt_logloss', 'scene_Platt_logloss', 'scene_ISO_logloss', 'scene_Beta_logloss', 'scene_VA_logloss', 'scene_CT_logloss', 'scene_PPA_logloss', 'scene_Shaker_logloss', 'Sonar_Mine_Rock_Data_RF_d_runtime', 'Sonar_Mine_Rock_Data_RF_opt_runtime', 'Sonar_Mine_Rock_Data_Platt_runtime', 'Sonar_Mine_Rock_Data_ISO_runtime', 'Sonar_Mine_Rock_Data_PPA_runtime', 'Sonar_Mine_Rock_Data_Shaker_runtime', 'Sonar_Mine_Rock_Data_VA_runtime', 'Sonar_Mine_Rock_Data_Beta_runtime', 'Sonar_Mine_Rock_Data_CT_runtime', 'Sonar_Mine_Rock_Data_RF_d_time', 'Sonar_Mine_Rock_Data_RF_opt_time', 'Sonar_Mine_Rock_Data_Platt_time', 'Sonar_Mine_Rock_Data_ISO_time', 'Sonar_Mine_Rock_Data_Beta_time', 'Sonar_Mine_Rock_Data_VA_time', 'Sonar_Mine_Rock_Data_CT_time', 'Sonar_Mine_Rock_Data_PPA_time', 'Sonar_Mine_Rock_Data_Shaker_time', 'Sonar_Mine_Rock_Data_RF_d_acc', 'Sonar_Mine_Rock_Data_RF_opt_acc', 'Sonar_Mine_Rock_Data_Platt_acc', 'Sonar_Mine_Rock_Data_ISO_acc', 'Sonar_Mine_Rock_Data_Beta_acc', 'Sonar_Mine_Rock_Data_VA_acc', 'Sonar_Mine_Rock_Data_CT_acc', 'Sonar_Mine_Rock_Data_PPA_acc', 'Sonar_Mine_Rock_Data_Shaker_acc', 'Sonar_Mine_Rock_Data_RF_d_ece', 'Sonar_Mine_Rock_Data_RF_opt_ece', 'Sonar_Mine_Rock_Data_Platt_ece', 'Sonar_Mine_Rock_Data_ISO_ece', 'Sonar_Mine_Rock_Data_Beta_ece', 'Sonar_Mine_Rock_Data_VA_ece', 'Sonar_Mine_Rock_Data_CT_ece', 'Sonar_Mine_Rock_Data_PPA_ece', 'Sonar_Mine_Rock_Data_Shaker_ece', 'Sonar_Mine_Rock_Data_RF_d_brier', 'Sonar_Mine_Rock_Data_RF_opt_brier', 'Sonar_Mine_Rock_Data_Platt_brier', 'Sonar_Mine_Rock_Data_ISO_brier', 'Sonar_Mine_Rock_Data_Beta_brier', 'Sonar_Mine_Rock_Data_VA_brier', 'Sonar_Mine_Rock_Data_CT_brier', 'Sonar_Mine_Rock_Data_PPA_brier', 'Sonar_Mine_Rock_Data_Shaker_brier', 'Sonar_Mine_Rock_Data_RF_d_logloss', 'Sonar_Mine_Rock_Data_RF_opt_logloss', 'Sonar_Mine_Rock_Data_Platt_logloss', 'Sonar_Mine_Rock_Data_ISO_logloss', 'Sonar_Mine_Rock_Data_Beta_logloss', 'Sonar_Mine_Rock_Data_VA_logloss', 'Sonar_Mine_Rock_Data_CT_logloss', 'Sonar_Mine_Rock_Data_PPA_logloss', 'Sonar_Mine_Rock_Data_Shaker_logloss', 'Customer_Churn_RF_d_runtime', 'Customer_Churn_RF_opt_runtime', 'Customer_Churn_Platt_runtime', 'Customer_Churn_ISO_runtime', 'Customer_Churn_PPA_runtime', 'Customer_Churn_Shaker_runtime', 'Customer_Churn_VA_runtime', 'Customer_Churn_Beta_runtime', 'Customer_Churn_CT_runtime', 'Customer_Churn_RF_d_time', 'Customer_Churn_RF_opt_time', 'Customer_Churn_Platt_time', 'Customer_Churn_ISO_time', 'Customer_Churn_Beta_time', 'Customer_Churn_VA_time', 'Customer_Churn_CT_time', 'Customer_Churn_PPA_time', 'Customer_Churn_Shaker_time', 'Customer_Churn_RF_d_acc', 'Customer_Churn_RF_opt_acc', 'Customer_Churn_Platt_acc', 'Customer_Churn_ISO_acc', 'Customer_Churn_Beta_acc', 'Customer_Churn_VA_acc', 'Customer_Churn_CT_acc', 'Customer_Churn_PPA_acc', 'Customer_Churn_Shaker_acc', 'Customer_Churn_RF_d_ece', 'Customer_Churn_RF_opt_ece', 'Customer_Churn_Platt_ece', 'Customer_Churn_ISO_ece', 'Customer_Churn_Beta_ece', 'Customer_Churn_VA_ece', 'Customer_Churn_CT_ece', 'Customer_Churn_PPA_ece', 'Customer_Churn_Shaker_ece', 'Customer_Churn_RF_d_brier', 'Customer_Churn_RF_opt_brier', 'Customer_Churn_Platt_brier', 'Customer_Churn_ISO_brier', 'Customer_Churn_Beta_brier', 'Customer_Churn_VA_brier', 'Customer_Churn_CT_brier', 'Customer_Churn_PPA_brier', 'Customer_Churn_Shaker_brier', 'Customer_Churn_RF_d_logloss', 'Customer_Churn_RF_opt_logloss', 'Customer_Churn_Platt_logloss', 'Customer_Churn_ISO_logloss', 'Customer_Churn_Beta_logloss', 'Customer_Churn_VA_logloss', 'Customer_Churn_CT_logloss', 'Customer_Churn_PPA_logloss', 'Customer_Churn_Shaker_logloss', 'jm1_RF_d_runtime', 'jm1_RF_opt_runtime', 'jm1_Platt_runtime', 'jm1_ISO_runtime', 'jm1_PPA_runtime', 'jm1_Shaker_runtime', 'jm1_VA_runtime', 'jm1_Beta_runtime', 'jm1_CT_runtime', 'jm1_RF_d_time', 'jm1_RF_opt_time', 'jm1_Platt_time', 'jm1_ISO_time', 'jm1_Beta_time', 'jm1_VA_time', 'jm1_CT_time', 'jm1_PPA_time', 'jm1_Shaker_time', 'jm1_RF_d_acc', 'jm1_RF_opt_acc', 'jm1_Platt_acc', 'jm1_ISO_acc', 'jm1_Beta_acc', 'jm1_VA_acc', 'jm1_CT_acc', 'jm1_PPA_acc', 'jm1_Shaker_acc', 'jm1_RF_d_ece', 'jm1_RF_opt_ece', 'jm1_Platt_ece', 'jm1_ISO_ece', 'jm1_Beta_ece', 'jm1_VA_ece', 'jm1_CT_ece', 'jm1_PPA_ece', 'jm1_Shaker_ece', 'jm1_RF_d_brier', 'jm1_RF_opt_brier', 'jm1_Platt_brier', 'jm1_ISO_brier', 'jm1_Beta_brier', 'jm1_VA_brier', 'jm1_CT_brier', 'jm1_PPA_brier', 'jm1_Shaker_brier', 'jm1_RF_d_logloss', 'jm1_RF_opt_logloss', 'jm1_Platt_logloss', 'jm1_ISO_logloss', 'jm1_Beta_logloss', 'jm1_VA_logloss', 'jm1_CT_logloss', 'jm1_PPA_logloss', 'jm1_Shaker_logloss', 'eeg_RF_d_runtime', 'eeg_RF_opt_runtime', 'eeg_Platt_runtime', 'eeg_ISO_runtime', 'eeg_PPA_runtime', 'eeg_Shaker_runtime', 'eeg_VA_runtime', 'eeg_Beta_runtime', 'eeg_CT_runtime', 'eeg_RF_d_time', 'eeg_RF_opt_time', 'eeg_Platt_time', 'eeg_ISO_time', 'eeg_Beta_time', 'eeg_VA_time', 'eeg_CT_time', 'eeg_PPA_time', 'eeg_Shaker_time', 'eeg_RF_d_acc', 'eeg_RF_opt_acc', 'eeg_Platt_acc', 'eeg_ISO_acc', 'eeg_Beta_acc', 'eeg_VA_acc', 'eeg_CT_acc', 'eeg_PPA_acc', 'eeg_Shaker_acc', 'eeg_RF_d_ece', 'eeg_RF_opt_ece', 'eeg_Platt_ece', 'eeg_ISO_ece', 'eeg_Beta_ece', 'eeg_VA_ece', 'eeg_CT_ece', 'eeg_PPA_ece', 'eeg_Shaker_ece', 'eeg_RF_d_brier', 'eeg_RF_opt_brier', 'eeg_Platt_brier', 'eeg_ISO_brier', 'eeg_Beta_brier', 'eeg_VA_brier', 'eeg_CT_brier', 'eeg_PPA_brier', 'eeg_Shaker_brier', 'eeg_RF_d_logloss', 'eeg_RF_opt_logloss', 'eeg_Platt_logloss', 'eeg_ISO_logloss', 'eeg_Beta_logloss', 'eeg_VA_logloss', 'eeg_CT_logloss', 'eeg_PPA_logloss', 'eeg_Shaker_logloss', 'phoneme_RF_d_runtime', 'phoneme_RF_opt_runtime', 'phoneme_Platt_runtime', 'phoneme_ISO_runtime', 'phoneme_PPA_runtime', 'phoneme_Shaker_runtime', 'phoneme_VA_runtime', 'phoneme_Beta_runtime', 'phoneme_CT_runtime', 'phoneme_RF_d_time', 'phoneme_RF_opt_time', 'phoneme_Platt_time', 'phoneme_ISO_time', 'phoneme_Beta_time', 'phoneme_VA_time', 'phoneme_CT_time', 'phoneme_PPA_time', 'phoneme_Shaker_time', 'phoneme_RF_d_acc', 'phoneme_RF_opt_acc', 'phoneme_Platt_acc', 'phoneme_ISO_acc', 'phoneme_Beta_acc', 'phoneme_VA_acc', 'phoneme_CT_acc', 'phoneme_PPA_acc', 'phoneme_Shaker_acc', 'phoneme_RF_d_ece', 'phoneme_RF_opt_ece', 'phoneme_Platt_ece', 'phoneme_ISO_ece', 'phoneme_Beta_ece', 'phoneme_VA_ece', 'phoneme_CT_ece', 'phoneme_PPA_ece', 'phoneme_Shaker_ece', 'phoneme_RF_d_brier', 'phoneme_RF_opt_brier', 'phoneme_Platt_brier', 'phoneme_ISO_brier', 'phoneme_Beta_brier', 'phoneme_VA_brier', 'phoneme_CT_brier', 'phoneme_PPA_brier', 'phoneme_Shaker_brier', 'phoneme_RF_d_logloss', 'phoneme_RF_opt_logloss', 'phoneme_Platt_logloss', 'phoneme_ISO_logloss', 'phoneme_Beta_logloss', 'phoneme_VA_logloss', 'phoneme_CT_logloss', 'phoneme_PPA_logloss', 'phoneme_Shaker_logloss'])"
      ]
     },
     "execution_count": 7,
     "metadata": {},
     "output_type": "execute_result"
    }
   ],
   "source": [
    "calib_results_dict.keys()"
   ]
  }
 ],
 "metadata": {
  "kernelspec": {
   "display_name": ".venv",
   "language": "python",
   "name": "python3"
  },
  "language_info": {
   "codemirror_mode": {
    "name": "ipython",
    "version": 3
   },
   "file_extension": ".py",
   "mimetype": "text/x-python",
   "name": "python",
   "nbconvert_exporter": "python",
   "pygments_lexer": "ipython3",
   "version": "3.10.12"
  },
  "orig_nbformat": 4
 },
 "nbformat": 4,
 "nbformat_minor": 2
}
